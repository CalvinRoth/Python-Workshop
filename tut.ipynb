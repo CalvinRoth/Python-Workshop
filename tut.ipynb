{
 "cells": [
  {
   "cell_type": "markdown",
   "id": "c43aed33",
   "metadata": {},
   "source": [
    "# Visual studio code setup\n",
    "Install jupyter : https://jupyter.org/install\n",
    "\n",
    "add jupyter extensions"
   ]
  },
  {
   "cell_type": "markdown",
   "id": "a6520056",
   "metadata": {},
   "source": [
    "# This is a markdown cell. \n",
    "We can press shift+enter to \"run\" it to make it into pretty text. \n",
    "\n",
    "Some common tools:\n",
    "# Headings large\n",
    "## Headings medium\n",
    "### Headings small\n",
    "\n",
    "``` foo(x,y) ```\n",
    "\n",
    "code snippets \n",
    "\n",
    "*Italics* \n",
    "**bold**\n",
    "\n",
    "Not the lack of space in the \"*\" with space we can make bulleted lists\n",
    "* Item 1\n",
    "* Item 2 \n",
    "* Item 3\n",
    "\n",
    "____ \n",
    "\n",
    "^ above makes a horizontal line. \n",
    "\n",
    "www.markdownguide.org/cheat-sheet/ to learn more about markdown"
   ]
  },
  {
   "cell_type": "code",
   "execution_count": null,
   "id": "32933cab",
   "metadata": {},
   "outputs": [],
   "source": [
    "# Python cell \n",
    "# This is a python cell. # words is not a heading now. Instead it's a comment \n",
    "# we can do computations in one cell\n",
    "\n",
    "y = 4 * ( 5 - 3)\n",
    "y"
   ]
  },
  {
   "cell_type": "code",
   "execution_count": null,
   "id": "6f6da6ff",
   "metadata": {},
   "outputs": [],
   "source": [
    "# and the result will be stored throughtout \n",
    "x = y - 8 \n",
    "x "
   ]
  },
  {
   "cell_type": "code",
   "execution_count": null,
   "id": "5c517182",
   "metadata": {},
   "outputs": [],
   "source": [
    "# So if we redefine y again, the above cell will change only when we rerun it\n",
    "y = 2 \n",
    "x"
   ]
  },
  {
   "cell_type": "markdown",
   "id": "42d70768",
   "metadata": {},
   "source": [
    "# More python basics"
   ]
  },
  {
   "cell_type": "code",
   "execution_count": null,
   "id": "bf52908a",
   "metadata": {},
   "outputs": [],
   "source": [
    "## Words and characters are stored in strings\n",
    "school = \"University of Minnesota\"\n",
    "age = \"27\"\n",
    "print(len(school)) ## length gets number of characters"
   ]
  },
  {
   "cell_type": "code",
   "execution_count": null,
   "id": "944d77c1",
   "metadata": {},
   "outputs": [],
   "source": [
    "school.find(\"Minnesota\") # we can search for specific words. Minnesota starts at position 14\n",
    "## Look carefully. "
   ]
  },
  {
   "cell_type": "code",
   "execution_count": null,
   "id": "c6222a16",
   "metadata": {},
   "outputs": [],
   "source": [
    "type(school)"
   ]
  },
  {
   "cell_type": "code",
   "execution_count": null,
   "id": "893f496c",
   "metadata": {},
   "outputs": [],
   "source": [
    "type(age) # how to change this? "
   ]
  },
  {
   "cell_type": "code",
   "execution_count": null,
   "id": "e15af7a0",
   "metadata": {},
   "outputs": [],
   "source": [
    "age = int(age) # for integer\n",
    "# \n",
    "age = float(age) # if we care about decimal places"
   ]
  },
  {
   "cell_type": "markdown",
   "id": "b5051634",
   "metadata": {},
   "source": [
    "# Lists, sets\n",
    "1. List : an ordered list of item denoted by square brackets "
   ]
  },
  {
   "cell_type": "code",
   "execution_count": null,
   "id": "7494067f",
   "metadata": {},
   "outputs": [],
   "source": [
    "words = school.split(\" \") # this splits school into pieces where each \"space \" is a seperator\n",
    "print(words)"
   ]
  },
  {
   "cell_type": "code",
   "execution_count": null,
   "id": "3b6d8e0f",
   "metadata": {},
   "outputs": [],
   "source": [
    "type(words)"
   ]
  },
  {
   "cell_type": "markdown",
   "id": "2a8fbd22",
   "metadata": {},
   "source": [
    "Or we can make or own"
   ]
  },
  {
   "cell_type": "code",
   "execution_count": null,
   "id": "f6c5fd46",
   "metadata": {},
   "outputs": [],
   "source": [
    "spotify_history = [\"Espresso\", \"Baboon\", \"Espresso\", \"Red Wine Supernova\", \"Espresso\", \"Red Wine Supernova\"]\n",
    "\n",
    "## how many songs did I listen to:\n",
    "print(len(spotify_history))\n",
    "\n",
    "## Did I listen to espresso\"\n",
    "print(\"Espresso\" in spotify_history)\n",
    "\n",
    "\n",
    "#when was the first time I listened to it\n",
    "print(spotify_history.index(\"Espresso\"))\n",
    "\n",
    "# how often? \n",
    "print(spotify_history.count(\"Espresso\"))\n",
    "\n",
    "\n",
    "# Indexing\n",
    "## What was the 2nd song I listened to\n",
    "print(spotify_history[1]) # not 2. Counting starts at 0\n",
    "\n",
    "## what was the 1 through 4 song I heard\n",
    "print(spotify_history[0:4])\n",
    "\n",
    "## we can add elements\n",
    "spotify_history.append(\"Birds of a feather\")\n",
    "print(spotify_history)\n",
    "\n",
    "## Or remove the element at a specific spot\n",
    "spotify_history.pop(1)\n",
    "## .pop(0) is the same as .pop() \n",
    "print(spotify_history)"
   ]
  },
  {
   "cell_type": "markdown",
   "id": "f7cec9d1",
   "metadata": {},
   "source": [
    "2. Sets  : unordered. Good if we want to forgot duplicates, not care about order but do care about membership. Uses curly brackets and is similar to mathematical sets with interesection and union"
   ]
  },
  {
   "cell_type": "code",
   "execution_count": null,
   "id": "c6cd1458",
   "metadata": {},
   "outputs": [],
   "source": [
    "spotify_history.count()"
   ]
  },
  {
   "cell_type": "code",
   "execution_count": null,
   "id": "b983f9c0",
   "metadata": {},
   "outputs": [],
   "source": [
    "spotify_history_set = set(spotify_history) # turn into a set \n",
    "\n",
    "\n",
    "print(spotify_history_set) # only three entries\n",
    "\n",
    "# Makes it easier to compare the differences\n",
    "spotify_friend_history_set = {\"Espresso\", \"JUMP\", \"Golden\" } # In line declaration \n",
    "\n",
    "print(spotify_history_set.union(spotify_friend_history_set)) # what songs did either of us listen to\n",
    "\n",
    "print(spotify_history_set.intersection(spotify_friend_history_set) ) ## did we both listen to \n",
    "\n",
    "# we can add a song \n",
    "spotify_friend_history_set.add(\"The Dead Dance\")\n",
    "print(spotify_friend_history_set)\n",
    "\n",
    "# we can also remove a random element from the set\n",
    "# Makes sense if we want to process items one at a time but order doesn't matter\n",
    "print(spotify_friend_history_set.pop())\n",
    "# note doing so gives us the removed element\n",
    "\n",
    "print(spotify_friend_history_set)"
   ]
  },
  {
   "cell_type": "markdown",
   "id": "6c22e9f5",
   "metadata": {},
   "source": [
    "## Using loops with data structures.\n",
    "The main point of putting elements into a datastructure is to process later. \n",
    "For loops are popular"
   ]
  },
  {
   "cell_type": "code",
   "execution_count": null,
   "id": "332fddb5",
   "metadata": {},
   "outputs": [],
   "source": [
    "for song in spotify_history:\n",
    "    print(song, len(song))\n"
   ]
  },
  {
   "cell_type": "code",
   "execution_count": null,
   "id": "faa31d02",
   "metadata": {},
   "outputs": [],
   "source": [
    "# finding the sone with the longest title process\n",
    "max_song_length = 0\n",
    "max_song_index = -1\n",
    "for i in range(len(spotify_history)):\n",
    "    if( len(spotify_history[i]) > max_song_length):\n",
    "        max_song_length = len(spotify_history[i])\n",
    "        max_song_index = i \n",
    "print(max_song_index, spotify_history[max_song_index])"
   ]
  },
  {
   "cell_type": "markdown",
   "id": "de49ff7b",
   "metadata": {},
   "source": [
    "# Functions\n",
    "What we have been doing is called functions but we can write our own as. \n",
    "\n",
    "``` \n",
    "    def function-name(param1, param2) : \n",
    "        do stuff \n",
    "        do stuff\n",
    "        do stuff\n",
    "        return result \n",
    "```"
   ]
  },
  {
   "cell_type": "code",
   "execution_count": null,
   "id": "a9ca92a0",
   "metadata": {},
   "outputs": [],
   "source": [
    "def circle_area(radius):\n",
    "    pi = 3.1415\n",
    "    return pi * radius * radius \n",
    "    # or return pi * radius**2"
   ]
  },
  {
   "cell_type": "code",
   "execution_count": null,
   "id": "d495055e",
   "metadata": {},
   "outputs": [],
   "source": [
    "circle_area(4)"
   ]
  },
  {
   "cell_type": "markdown",
   "id": "2febf6cd",
   "metadata": {},
   "source": []
  },
  {
   "cell_type": "markdown",
   "id": "263ca2dc",
   "metadata": {},
   "source": [
    "# Installing packages\n",
    "In the terminal, we can do \n",
    "\n",
    "``` conda install numpy scikit-learn matplotlib pandas ```\n",
    "\n",
    "Then the following should work "
   ]
  },
  {
   "cell_type": "code",
   "execution_count": null,
   "id": "5bde2b0f",
   "metadata": {},
   "outputs": [],
   "source": [
    "import numpy  as np \n",
    "import matplotlib.pyplot as plt \n",
    "import pandas as pd \n",
    "import sklearn "
   ]
  },
  {
   "cell_type": "code",
   "execution_count": null,
   "id": "d983fe2d",
   "metadata": {},
   "outputs": [],
   "source": [
    "import statsmodel  # I will show how to install this one live. "
   ]
  },
  {
   "cell_type": "markdown",
   "id": "c20b63a2",
   "metadata": {},
   "source": [
    "# Importing data"
   ]
  },
  {
   "cell_type": "markdown",
   "id": "dfc36567",
   "metadata": {},
   "source": [
    "Pandas is the default tool to use for loading and managing data. Works over \"dataframe\" something like a excel sheet i.e. data in rows and columns with named columns. "
   ]
  },
  {
   "cell_type": "code",
   "execution_count": null,
   "id": "02d258d4",
   "metadata": {},
   "outputs": [],
   "source": [
    "flower_data_raw = pd.read_csv(\"Iris.csv\") "
   ]
  },
  {
   "cell_type": "code",
   "execution_count": null,
   "id": "8a082450",
   "metadata": {},
   "outputs": [],
   "source": [
    "flower_data_raw"
   ]
  },
  {
   "cell_type": "markdown",
   "id": "5ceb1435",
   "metadata": {},
   "source": [
    "Here are some useful things to do in pandas. \n",
    "\n",
    "Getting just one column:"
   ]
  },
  {
   "cell_type": "code",
   "execution_count": null,
   "id": "c5fd13e5",
   "metadata": {},
   "outputs": [],
   "source": [
    "flower_data_raw[\"Id\"] "
   ]
  },
  {
   "cell_type": "markdown",
   "id": "ac29b8ca",
   "metadata": {},
   "source": [
    "Select multiple rows"
   ]
  },
  {
   "cell_type": "code",
   "execution_count": null,
   "id": "42f4c1cd",
   "metadata": {},
   "outputs": [],
   "source": [
    "flower_data_raw[ [\"Id\", \"SepalLengthCm\"]]"
   ]
  },
  {
   "cell_type": "markdown",
   "id": "1a5c0857",
   "metadata": {},
   "source": [
    "Basic statistics over segments of the data"
   ]
  },
  {
   "cell_type": "code",
   "execution_count": null,
   "id": "eb41082a",
   "metadata": {},
   "outputs": [],
   "source": [
    "flower_data_raw.describe()"
   ]
  },
  {
   "cell_type": "markdown",
   "id": "86498fc4",
   "metadata": {},
   "source": [
    "#  Plotting"
   ]
  },
  {
   "cell_type": "code",
   "execution_count": null,
   "id": "46485db8",
   "metadata": {},
   "outputs": [],
   "source": [
    "plt.plot(flower_data_raw[\"SepalWidthCm\"])"
   ]
  },
  {
   "cell_type": "markdown",
   "id": "33b22522",
   "metadata": {},
   "source": [
    "# Adding more"
   ]
  },
  {
   "cell_type": "code",
   "execution_count": null,
   "id": "ac6d6149",
   "metadata": {},
   "outputs": [],
   "source": [
    "plt.plot(flower_data_raw[\"SepalWidthCm\"], label=\"SepalWidth\")\n",
    "plt.xlabel(\"Sample Number\")\n",
    "plt.ylabel(\"Width\")\n",
    "plt.title(\"Flower Sepal Width\")"
   ]
  },
  {
   "cell_type": "markdown",
   "id": "cdab43c1",
   "metadata": {},
   "source": [
    "But in this case the x axis doesn't really make sense.\n",
    "Option 1: sort the data and plot that to get an idea of the the distribution"
   ]
  },
  {
   "cell_type": "code",
   "execution_count": null,
   "id": "a5f2c4c7",
   "metadata": {},
   "outputs": [],
   "source": [
    "plt.plot(sorted(flower_data_raw[\"SepalWidthCm\"]), label=\"SepalWidth\")\n",
    "plt.xlabel(\"Index\")\n",
    "plt.ylabel(\"Width\")\n",
    "plt.title(\"Flower Sepal Width\")"
   ]
  },
  {
   "cell_type": "code",
   "execution_count": null,
   "id": "45a927e9",
   "metadata": {},
   "outputs": [],
   "source": [
    "# do a histogram\n",
    "plt.hist(flower_data_raw[\"SepalWidthCm\"], bins=10, label=\"SepalWidth\")\n",
    "plt.xlabel(\"Width\")\n",
    "plt.ylabel(\"Frequency\")\n",
    "plt.title(\"Flower Sepal Width\")"
   ]
  },
  {
   "cell_type": "code",
   "execution_count": null,
   "id": "304b7fb3",
   "metadata": {},
   "outputs": [],
   "source": [
    "# Or we could plot against something else"
   ]
  },
  {
   "cell_type": "code",
   "execution_count": null,
   "id": "032d0550",
   "metadata": {},
   "outputs": [],
   "source": [
    "plt.scatter(flower_data_raw[\"SepalLengthCm\"], flower_data_raw[\"SepalWidthCm\"], label=\"SepalWidth\")\n",
    "plt.xlabel(\"Sample Length\")\n",
    "plt.ylabel(\"Sample Width\")\n",
    "plt.title(\"Flower Sepal Width\")"
   ]
  },
  {
   "cell_type": "code",
   "execution_count": null,
   "id": "bffecfae",
   "metadata": {},
   "outputs": [],
   "source": [
    "import statsmodel # I don't have this one. Oops "
   ]
  },
  {
   "cell_type": "code",
   "execution_count": null,
   "id": "cf15604c",
   "metadata": {},
   "outputs": [],
   "source": []
  },
  {
   "cell_type": "markdown",
   "id": "84b6a556",
   "metadata": {},
   "source": [
    "# Numpy \n",
    "Numpy is similar to Pandas but better for numerical operations"
   ]
  },
  {
   "cell_type": "code",
   "execution_count": null,
   "id": "302ca525",
   "metadata": {},
   "outputs": [],
   "source": [
    "# make a numpy array \n",
    "A = np.zeros((4,4))\n",
    "for i in range(4):\n",
    "    for j in range(4):\n",
    "        A[i,j] = i+j\n",
    "\n",
    "v = np.zeros((4,1))\n",
    "for i in range(4):\n",
    "    v[i] = np.random.normal(4, 2.3)\n",
    "print(A), print(v)"
   ]
  },
  {
   "cell_type": "code",
   "execution_count": null,
   "id": "09aaab23",
   "metadata": {},
   "outputs": [],
   "source": [
    "# special operations \n",
    "A @ v   # @ makes this matrix multiplication "
   ]
  },
  {
   "cell_type": "code",
   "execution_count": null,
   "id": "18475bb9",
   "metadata": {},
   "outputs": [],
   "source": [
    "np.linalg.solve(A, v)  "
   ]
  },
  {
   "cell_type": "code",
   "execution_count": null,
   "id": "3b8c4a80",
   "metadata": {},
   "outputs": [],
   "source": [
    "np.linalg.inv(A) @ v # equivalent result but top is prefered for numerical reasons"
   ]
  },
  {
   "cell_type": "code",
   "execution_count": null,
   "id": "5e817658",
   "metadata": {},
   "outputs": [],
   "source": [
    "np.linalg.eigvals(A)"
   ]
  },
  {
   "cell_type": "markdown",
   "id": "9f30ca91",
   "metadata": {},
   "source": [
    "# Sklearn\n",
    "\n",
    "Machine learning package for python. Popular and very well docuented. \n",
    "Lets us sklearn to figure out if there is a strong relationship between the different flower datas"
   ]
  },
  {
   "cell_type": "code",
   "execution_count": null,
   "id": "e03dbc89",
   "metadata": {},
   "outputs": [],
   "source": [
    "from sklearn import linear_model\n",
    "reg = linear_model.LinearRegression()\n",
    "reg.fit(flower_data_raw[[\"SepalLengthCm\"]], flower_data_raw[\"PetalLengthCm\"] )"
   ]
  },
  {
   "cell_type": "code",
   "execution_count": null,
   "id": "c67bcdd9",
   "metadata": {},
   "outputs": [],
   "source": [
    "reg.coef_"
   ]
  },
  {
   "cell_type": "code",
   "execution_count": null,
   "id": "180e8e76",
   "metadata": {},
   "outputs": [],
   "source": [
    "reg.intercept_"
   ]
  },
  {
   "cell_type": "code",
   "execution_count": null,
   "id": "a16cc930",
   "metadata": {},
   "outputs": [],
   "source": [
    "predictions = [reg.intercept_ + reg.coef_ * flower_data_raw[\"SepalLengthCm\"].iloc[i] for i in range(len(flower_data_raw[\"SepalLengthCm\"]))]"
   ]
  },
  {
   "cell_type": "code",
   "execution_count": null,
   "id": "df4112dc",
   "metadata": {},
   "outputs": [],
   "source": [
    "plt.scatter(flower_data_raw[\"SepalLengthCm\"], flower_data_raw[\"PetalLengthCm\"], label=\"Actual Data\")\n",
    "plt.plot(flower_data_raw[\"SepalLengthCm\"], predictions, color=\"black\", ls=\"dashdot\", label=\"prediction\" )\n",
    "plt.legend()\n",
    "plt.xlabel(\"Sepal Length\")\n",
    "plt.ylabel(\"Petal Length\")\n",
    "plt.title(\"Flower Petal Length\")"
   ]
  },
  {
   "cell_type": "markdown",
   "id": "4c0dd025",
   "metadata": {},
   "source": [
    "# Statsmodel\n",
    "Most \"R\" like package"
   ]
  },
  {
   "cell_type": "code",
   "execution_count": null,
   "id": "62217f9a",
   "metadata": {},
   "outputs": [],
   "source": [
    "import statsmodels.formula.api as smf"
   ]
  },
  {
   "cell_type": "code",
   "execution_count": null,
   "id": "ddaa94a2",
   "metadata": {},
   "outputs": [],
   "source": [
    "results = smf.ols(\"PetalLengthCm ~ SepalLengthCm\", data= flower_data_raw).fit()"
   ]
  },
  {
   "cell_type": "code",
   "execution_count": null,
   "id": "146e5fd5",
   "metadata": {},
   "outputs": [],
   "source": [
    "print(results.summary())"
   ]
  },
  {
   "cell_type": "markdown",
   "id": "3a351128",
   "metadata": {},
   "source": []
  }
 ],
 "metadata": {
  "kernelspec": {
   "display_name": "coding",
   "language": "python",
   "name": "python3"
  },
  "language_info": {
   "codemirror_mode": {
    "name": "ipython",
    "version": 3
   },
   "file_extension": ".py",
   "mimetype": "text/x-python",
   "name": "python",
   "nbconvert_exporter": "python",
   "pygments_lexer": "ipython3",
   "version": "3.12.3"
  }
 },
 "nbformat": 4,
 "nbformat_minor": 5
}
